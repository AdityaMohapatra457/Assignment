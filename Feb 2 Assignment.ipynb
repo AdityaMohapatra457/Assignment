{
 "cells": [
  {
   "cell_type": "code",
   "execution_count": null,
   "id": "3690714e-d977-469d-aef7-5b804dbc7b90",
   "metadata": {},
   "outputs": [],
   "source": [
    "2 february assinment"
   ]
  },
  {
   "cell_type": "code",
   "execution_count": null,
   "id": "739968c0-3cf7-44a8-9b27-f8b385977703",
   "metadata": {},
   "outputs": [],
   "source": [
    "1- \n",
    "For Loops:\n",
    "    # Print each item in a list\n",
    "fruits = [\"apple\", \"banana\", \"orange\"]\n",
    "for fruit in fruits:\n",
    "    print(fruit)\n",
    "\n",
    "# Print numbers from 1 to 10\n",
    "for i in range(1, 11):\n",
    "    print(i)\n",
    "    \n",
    "    \n",
    "For While loops:\n",
    " # program to display numbers from 1 to 5\n",
    "\n",
    "# initialize the variable\n",
    "i = 1\n",
    "n = 5\n",
    "\n",
    "# while loop from i = 1 to 5\n",
    "while i <= n:\n",
    "    print(i)\n",
    "    i = i + 1"
   ]
  },
  {
   "cell_type": "code",
   "execution_count": null,
   "id": "9d3598f8-65e7-41a0-ae5e-17a95968b792",
   "metadata": {},
   "outputs": [],
   "source": [
    "2 - sum = 0\n",
    "product = 1\n",
    "\n",
    "for i in range(1, 11):\n",
    "    sum += i\n",
    "    product *= i\n",
    "\n",
    "print(\"Sum of first 10 natural numbers:\", sum)\n",
    "print(\"Product of first 10 natural numbers:\", product)"
   ]
  },
  {
   "cell_type": "code",
   "execution_count": null,
   "id": "d1ae122c-5a6c-4dca-937d-c5826fe8b05f",
   "metadata": {},
   "outputs": [],
   "source": [
    "3 - "
   ]
  },
  {
   "cell_type": "code",
   "execution_count": null,
   "id": "e1ddf205-f834-4178-b62b-e7791930676d",
   "metadata": {},
   "outputs": [],
   "source": [
    "4- for loop \n",
    "numbers = list(range(1, 101))\n",
    "divisible_numbers = []\n",
    "\n",
    "for number in numbers:\n",
    "  cube = number**3\n",
    "  if cube % 4 == 0 or cube % 5 == 0:\n",
    "    divisible_numbers.append(number)\n",
    "\n",
    "print(\"Numbers divisible by 4 or 5 using for loop:\", divisible_numbers)\n",
    " \n",
    "    using while loop \n",
    "    \n",
    "    \n",
    "    \n",
    "numbers = list(range(1, 101))\n",
    "divisible_numbers = []\n",
    "i = 0\n",
    "\n",
    "while i < len(numbers):\n",
    "  number = numbers[i]\n",
    "  cube = number**3\n",
    "  if cube % 4 == 0 or cube % 5 == 0:\n",
    "    divisible_numbers.append(number)\n",
    "  i += 1\n",
    "\n",
    "print(\"Numbers divisible by 4 or 5 using while loop:\", divisible_numbers)\n"
   ]
  },
  {
   "cell_type": "code",
   "execution_count": null,
   "id": "98da25f9-40d0-4db3-a21b-86e57d4eb7be",
   "metadata": {},
   "outputs": [],
   "source": [
    "5-   \n",
    "string = \"I want to become a data scientist\"\n",
    "vowels = \"aeiou\"\n",
    "vowel_count = 0\n",
    "\n",
    "# Iterate through each character in the string\n",
    "for char in string:\n",
    "  # Check if the character is a vowel\n",
    "  if char.lower() in vowels:\n",
    "    vowel_count += 1\n",
    "\n",
    "# Print the number of vowels\n",
    "print(f\"Number of vowels in '{string}': {vowel_count}\")\n"
   ]
  },
  {
   "cell_type": "code",
   "execution_count": null,
   "id": "d3ee332d-2d6e-4c0a-9b1e-f8aa58a37911",
   "metadata": {},
   "outputs": [],
   "source": []
  },
  {
   "cell_type": "code",
   "execution_count": null,
   "id": "1849d77f-a47a-4b37-94f5-a544eca23d63",
   "metadata": {},
   "outputs": [],
   "source": []
  },
  {
   "cell_type": "code",
   "execution_count": null,
   "id": "921470db-215d-4464-989c-fd6e59d0d590",
   "metadata": {},
   "outputs": [],
   "source": []
  },
  {
   "cell_type": "code",
   "execution_count": null,
   "id": "8691533d-a0fd-4493-add4-b83539b566e1",
   "metadata": {},
   "outputs": [],
   "source": []
  },
  {
   "cell_type": "code",
   "execution_count": null,
   "id": "b7d8be1e-c00b-4112-9a6e-91c30f29ae43",
   "metadata": {},
   "outputs": [],
   "source": []
  },
  {
   "cell_type": "code",
   "execution_count": null,
   "id": "6e5766ab-f298-4814-9e41-b6c02cd9dfd4",
   "metadata": {},
   "outputs": [],
   "source": []
  },
  {
   "cell_type": "code",
   "execution_count": null,
   "id": "39e1f6da-1659-4b09-afdb-1ceb843e849e",
   "metadata": {},
   "outputs": [],
   "source": []
  }
 ],
 "metadata": {
  "kernelspec": {
   "display_name": "Python 3 (ipykernel)",
   "language": "python",
   "name": "python3"
  },
  "language_info": {
   "codemirror_mode": {
    "name": "ipython",
    "version": 3
   },
   "file_extension": ".py",
   "mimetype": "text/x-python",
   "name": "python",
   "nbconvert_exporter": "python",
   "pygments_lexer": "ipython3",
   "version": "3.10.8"
  }
 },
 "nbformat": 4,
 "nbformat_minor": 5
}
