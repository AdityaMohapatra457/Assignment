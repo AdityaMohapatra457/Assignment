{
 "cells": [
  {
   "cell_type": "code",
   "execution_count": null,
   "id": "ba97203f-ebe2-4fc4-8fd6-a55df95e3c2c",
   "metadata": {},
   "outputs": [],
   "source": [
    "29 jan Assignment\n"
   ]
  },
  {
   "cell_type": "code",
   "execution_count": null,
   "id": "e99c856a-bab6-4348-9422-0bb880e8fe08",
   "metadata": {},
   "outputs": [],
   "source": [
    "1 - Python was developed by Guido van Rossum.\n"
   ]
  },
  {
   "cell_type": "code",
   "execution_count": null,
   "id": "61c38bc8-5dce-4aaf-ba1a-1efdc1508986",
   "metadata": {},
   "outputs": [],
   "source": [
    "2 - Python supports both object-oriented programming\n"
   ]
  },
  {
   "cell_type": "code",
   "execution_count": null,
   "id": "3db6bec2-74df-40a7-9966-34f9bba302cf",
   "metadata": {},
   "outputs": [],
   "source": [
    "3 - Yes, Python is case sensitive\n"
   ]
  },
  {
   "cell_type": "code",
   "execution_count": null,
   "id": "b4c207a8-8d1e-44d2-b237-ec5820003b54",
   "metadata": {},
   "outputs": [],
   "source": [
    "4 - .py\n"
   ]
  },
  {
   "cell_type": "code",
   "execution_count": null,
   "id": "5fcacaac-81c9-4e6e-acf7-745c73cba315",
   "metadata": {},
   "outputs": [],
   "source": [
    "5 - Python code is interpreted\n"
   ]
  },
  {
   "cell_type": "code",
   "execution_count": null,
   "id": "bf17262e-f862-495a-8caf-b7936ba1cde3",
   "metadata": {},
   "outputs": [],
   "source": [
    "6 - class - defining classes\n",
    "    if - defining conditional statements\n",
    "    while - defining looping statements\n",
    "    for - for loops\n"
   ]
  },
  {
   "cell_type": "code",
   "execution_count": null,
   "id": "d77edf3c-fa95-43c0-bb7b-3a8c34c3ec68",
   "metadata": {},
   "outputs": [],
   "source": [
    "7 - single-line comments in Python is #.\n"
   ]
  },
  {
   "cell_type": "code",
   "execution_count": null,
   "id": "32d41579-35e6-45a7-8f21-d5a65d86c390",
   "metadata": {},
   "outputs": [],
   "source": [
    "8 - sys. version\n"
   ]
  },
  {
   "cell_type": "code",
   "execution_count": null,
   "id": "b02504ed-1bf5-4a7d-8344-a837b175d53b",
   "metadata": {},
   "outputs": [],
   "source": [
    "9 - lambda\n"
   ]
  },
  {
   "cell_type": "code",
   "execution_count": null,
   "id": "846c3994-7a0b-4944-bb60-5ef63fae1dd1",
   "metadata": {},
   "outputs": [],
   "source": [
    "10 - PIP stands for Python Installed Packages."
   ]
  },
  {
   "cell_type": "code",
   "execution_count": null,
   "id": "431e8c31-6710-47d0-a0ce-a2410b5db49d",
   "metadata": {},
   "outputs": [],
   "source": [
    "11 - A few built-in functions in Python are:\n",
    "    print()\n",
    "    len()\n",
    "    sum()\n",
    "    range ()"
   ]
  },
  {
   "cell_type": "code",
   "execution_count": null,
   "id": "eeb113d5-7af0-40e8-8913-dd83ce6d1df7",
   "metadata": {},
   "outputs": [],
   "source": [
    "12 -   79 characters\n"
   ]
  },
  {
   "cell_type": "code",
   "execution_count": null,
   "id": "a7cf0a31-a6a2-4785-a1e2-aa3d3b29dd54",
   "metadata": {},
   "outputs": [],
   "source": [
    "13 - It is easy to learn and use.\n",
    "     A large standard library.\n",
    "     User-friendly data structures.\n",
    "     High-level language.\n",
    "     It is free and open source\n",
    "     \n"
   ]
  },
  {
   "cell_type": "code",
   "execution_count": null,
   "id": "29b7a1a7-5b1c-47b2-b284-7e59d2913fad",
   "metadata": {},
   "outputs": [],
   "source": [
    "14 - Memory management in Python involves a private heap containing all Python objects and data structures. \n"
   ]
  },
  {
   "cell_type": "code",
   "execution_count": null,
   "id": "d12dfb9d-3f65-456d-9ce8-f7d0b3c50fd0",
   "metadata": {},
   "outputs": [],
   "source": [
    "15 -  1. Go to the Python website and download the installer for Windows.\n",
    "      2.Run the installer and follow the instructions.\n",
    "      3.Once Python is installed, you can add the Python directory to your path environment variable. This will allow you to run Python scripts from any directory.\n"
   ]
  },
  {
   "cell_type": "code",
   "execution_count": null,
   "id": "6355480a-cf8b-4ee8-b273-7ac1fdbf026e",
   "metadata": {},
   "outputs": [],
   "source": [
    "16 - Yes, indentation is required in Python.\n"
   ]
  }
 ],
 "metadata": {
  "kernelspec": {
   "display_name": "Python 3 (ipykernel)",
   "language": "python",
   "name": "python3"
  },
  "language_info": {
   "codemirror_mode": {
    "name": "ipython",
    "version": 3
   },
   "file_extension": ".py",
   "mimetype": "text/x-python",
   "name": "python",
   "nbconvert_exporter": "python",
   "pygments_lexer": "ipython3",
   "version": "3.10.8"
  }
 },
 "nbformat": 4,
 "nbformat_minor": 5
}
