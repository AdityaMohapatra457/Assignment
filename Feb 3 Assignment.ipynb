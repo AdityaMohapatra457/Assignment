{
 "cells": [
  {
   "cell_type": "code",
   "execution_count": null,
   "id": "3d7955fb-68fc-44d0-88b2-e9065fca0f02",
   "metadata": {},
   "outputs": [],
   "source": [
    "3 February Assignment"
   ]
  },
  {
   "cell_type": "code",
   "execution_count": null,
   "id": "c6906823-a8a1-4804-8922-4359341068bb",
   "metadata": {},
   "outputs": [],
   "source": [
    "1 - def odd_numbers(start=1, end=25):\n",
    "    \"\"\"Returns a list of odd numbers within a given range.\"\"\"\n",
    "    return [num for num in range(start, end + 1) if num % 2 != 0]\n"
   ]
  },
  {
   "cell_type": "code",
   "execution_count": null,
   "id": "a70de4a9-affd-4cfb-a0f1-df81a537a243",
   "metadata": {},
   "outputs": [],
   "source": [
    "2 -Function using args:\n",
    "    def sum_all_values(*args):\n",
    "    \"\"\"Calculates the sum of all provided arguments.\"\"\"\n",
    "    total = 0\n",
    "    for num in args:\n",
    "        total += num\n",
    "    return total\n",
    "Function using kwargs:\n",
    "    def print_name_and_age(**kwargs):\n",
    "    \"\"\"Prints name and age from provided keyword arguments.\"\"\"\n",
    "    print(\"Name:\", kwargs.get(\"name\"))\n",
    "    print(\"Age:\", kwargs.get(\"age\"))\n"
   ]
  },
  {
   "cell_type": "code",
   "execution_count": null,
   "id": "938bcc1a-ccbf-4352-9f3f-276089571e34",
   "metadata": {},
   "outputs": [],
   "source": [
    "3 -An iterator is an object that allows you to traverse through a sequence of elements one at a time.\n",
    "\n",
    "Methods for initializing and iterating:\n",
    "iter(): Used to initialize an iterator object from a sequence.\n",
    "next(): Used to fetch the next element from the iterator.\n",
    "\n",
    "numbers = [2, 4, 6, 8, 10, 12, 14, 16, 18, 20]\n",
    "iterator = iter(numbers)\n",
    "for _ in range(5):\n",
    "    print(next(iterator))\n"
   ]
  },
  {
   "cell_type": "code",
   "execution_count": null,
   "id": "d7d9f2ae-0c88-4509-b978-b0465f83cad9",
   "metadata": {},
   "outputs": [],
   "source": [
    "4 -A generator function is a special type of function that uses the yield keyword to return a sequence of values one at a time, rather than generating the entire sequence at once. This makes them memory-efficient, especially for large sequences.\n",
    "def square_numbers(n):\n",
    "    \"Generates squares of numbers up to n.\"\n",
    "    for num in range(n):\n",
    "        yield num**2\n"
   ]
  },
  {
   "cell_type": "code",
   "execution_count": null,
   "id": "efffaf5c-42ed-408c-98f5-32c732188b01",
   "metadata": {},
   "outputs": [],
   "source": [
    "5 -def prime_numbers():\n",
    "    \"\"\"Generates prime numbers.\"\"\"\n",
    "    yield 2\n",
    "    num = 3\n",
    "    while num < 1000:\n",
    "        is_prime = True\n",
    "        for i in range(3, int(num**0.5) + 1, 2):\n",
    "            if num % i == 0:\n",
    "                is_prime = False\n",
    "                break\n",
    "        if is_prime:\n",
    "            yield num\n",
    "        num += 2\n",
    "\n",
    "# Print first 20 prime numbers\n",
    "prime_generator = prime_numbers()\n",
    "for _ in range(20):\n",
    "    print(next(prime_generator))\n"
   ]
  },
  {
   "cell_type": "code",
   "execution_count": null,
   "id": "bc1c6bfe-baf4-49a2-8904-7b887e484ac4",
   "metadata": {},
   "outputs": [],
   "source": [
    "6 -a, b = 0, 1\n",
    "count = 0\n",
    "while count < 10:\n",
    "    print(a)\n",
    "    a, b = b, a + b\n",
    "    count += 1\n"
   ]
  },
  {
   "cell_type": "code",
   "execution_count": null,
   "id": "28780b59-77d4-4b6d-bb3a-90faef4f8139",
   "metadata": {},
   "outputs": [],
   "source": [
    "7 -letters = [letter for letter in 'pwskills']\n",
    "print(letters)\n"
   ]
  },
  {
   "cell_type": "code",
   "execution_count": null,
   "id": "5089e38f-78a6-4ca0-8a81-23aae3ed683b",
   "metadata": {},
   "outputs": [],
   "source": [
    "8 -num = int(input(\"Enter a number: \"))\n",
    "original = num\n",
    "reversed_num = 0\n",
    "while num > 0:\n",
    "    digit = num % 10\n",
    "    reversed_num = reversed_num * 10 + digit\n",
    "    num //= 10\n",
    "if original == reversed_num:\n",
    "    print(original, \"is a palindrome\")\n",
    "else:\n",
    "    print(original, \"is not a palindrome\")\n"
   ]
  },
  {
   "cell_type": "code",
   "execution_count": null,
   "id": "a9bdd8ff-6f74-4539-b3c4-9355f807465c",
   "metadata": {},
   "outputs": [],
   "source": [
    "9 -"
   ]
  }
 ],
 "metadata": {
  "kernelspec": {
   "display_name": "Python 3 (ipykernel)",
   "language": "python",
   "name": "python3"
  },
  "language_info": {
   "codemirror_mode": {
    "name": "ipython",
    "version": 3
   },
   "file_extension": ".py",
   "mimetype": "text/x-python",
   "name": "python",
   "nbconvert_exporter": "python",
   "pygments_lexer": "ipython3",
   "version": "3.10.8"
  }
 },
 "nbformat": 4,
 "nbformat_minor": 5
}
