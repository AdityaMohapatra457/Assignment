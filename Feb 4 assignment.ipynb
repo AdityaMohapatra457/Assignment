{
 "cells": [
  {
   "cell_type": "code",
   "execution_count": null,
   "id": "faf98742-c360-43e3-a0e0-d57f079468b2",
   "metadata": {},
   "outputs": [],
   "source": [
    "4 February Assignment"
   ]
  },
  {
   "cell_type": "code",
   "execution_count": null,
   "id": "4de6fe23-5289-402e-a920-5ccdc5deb97c",
   "metadata": {},
   "outputs": [],
   "source": [
    "1 - players = [('Sachin Tendulkar', 34357), ('Ricky Ponting', 27483), ('Jack Kallis', 25534), ('Virat Kohli', 24936)]\n",
    "sorted_players = sorted(players, key=lambda x: x[1])  # Sort based on the second element (integer)\n",
    "print(sorted_players)\n"
   ]
  },
  {
   "cell_type": "code",
   "execution_count": null,
   "id": "fa4a1a9e-8bc4-4b4a-b8b2-aaa96910ac6e",
   "metadata": {},
   "outputs": [],
   "source": [
    "2 - numbers = [1, 2, 3, 4, 5, 6, 7, 8, 9, 10]\n",
    "squares = list(map(lambda x: x**2, numbers))  # Apply lambda to square each number\n",
    "print(squares)\n"
   ]
  },
  {
   "cell_type": "code",
   "execution_count": null,
   "id": "a44c4c49-a1e2-44fe-af80-3e31b6eaf6b3",
   "metadata": {},
   "outputs": [],
   "source": [
    "3 - numbers = [1, 2, 3, 4, 5, 6, 7, 8, 9, 10]\n",
    "string_tuple = tuple(map(lambda x: str(x), numbers))  # Convert each number to string and make a tuple\n",
    "print(string_tuple)\n"
   ]
  },
  {
   "cell_type": "code",
   "execution_count": null,
   "id": "d213b61e-02f4-403b-a9f1-59910959001d",
   "metadata": {},
   "outputs": [],
   "source": [
    "4 - from functools import reduce\n",
    "numbers = list(range(1, 26))\n",
    "product = reduce(lambda x, y: x * y, numbers)  # Multiply all numbers using reduce\n",
    "print(product)\n"
   ]
  },
  {
   "cell_type": "code",
   "execution_count": null,
   "id": "1913b8a5-8fe6-4eb2-a5b8-7564348e3d18",
   "metadata": {},
   "outputs": [],
   "source": [
    "5 - numbers = [2, 3, 6, 9, 27, 60, 90, 120, 55, 46]\n",
    "filtered_numbers = list(filter(lambda x: x % 6 == 0, numbers))  # Filter numbers divisible by 2 and 3\n",
    "print(filtered_numbers)\n"
   ]
  },
  {
   "cell_type": "code",
   "execution_count": null,
   "id": "ad3df23b-134e-4e31-842b-cb3a50df0af5",
   "metadata": {},
   "outputs": [],
   "source": [
    "6 - strings = ['python', 'php', 'aba', 'radar', 'level']\n",
    "palindromes = list(filter(lambda x: x == x[::-1], strings))  # Check for palindromes using lambda and filter\n",
    "print(palindromes)\n"
   ]
  },
  {
   "cell_type": "code",
   "execution_count": null,
   "id": "fb4d0d91-b8d1-4980-bf63-57728d5d2542",
   "metadata": {},
   "outputs": [],
   "source": []
  }
 ],
 "metadata": {
  "kernelspec": {
   "display_name": "Python 3 (ipykernel)",
   "language": "python",
   "name": "python3"
  },
  "language_info": {
   "codemirror_mode": {
    "name": "ipython",
    "version": 3
   },
   "file_extension": ".py",
   "mimetype": "text/x-python",
   "name": "python",
   "nbconvert_exporter": "python",
   "pygments_lexer": "ipython3",
   "version": "3.10.8"
  }
 },
 "nbformat": 4,
 "nbformat_minor": 5
}
